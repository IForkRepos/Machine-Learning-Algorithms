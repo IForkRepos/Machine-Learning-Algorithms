{
 "cells": [
  {
   "cell_type": "markdown",
   "metadata": {
    "toc": true
   },
   "source": [
    "<h1>Table of Contents<span class=\"tocSkip\"></span></h1>\n",
    "<div class=\"toc\"><ul class=\"toc-item\"><li><span><a href=\"#Dimensionality-reduction-Using-PCA\" data-toc-modified-id=\"Dimensionality-reduction-Using-PCA-1\"><span class=\"toc-item-num\">1&nbsp;&nbsp;</span>Dimensionality reduction Using PCA</a></span></li><li><span><a href=\"#Feature-Extraction-on-Diabetes-dataset\" data-toc-modified-id=\"Feature-Extraction-on-Diabetes-dataset-2\"><span class=\"toc-item-num\">2&nbsp;&nbsp;</span>Feature Extraction on Diabetes dataset</a></span><ul class=\"toc-item\"><li><span><a href=\"#ACcuracy-Before-applying-PCA\" data-toc-modified-id=\"ACcuracy-Before-applying-PCA-2.1\"><span class=\"toc-item-num\">2.1&nbsp;&nbsp;</span>ACcuracy Before applying PCA</a></span></li></ul></li><li><span><a href=\"#On-Mnist-Dataset\" data-toc-modified-id=\"On-Mnist-Dataset-3\"><span class=\"toc-item-num\">3&nbsp;&nbsp;</span>On Mnist Dataset</a></span></li></ul></div>"
   ]
  },
  {
   "cell_type": "code",
   "execution_count": 1,
   "metadata": {
    "ExecuteTime": {
     "end_time": "2020-04-17T16:53:43.976333Z",
     "start_time": "2020-04-17T16:53:40.941030Z"
    }
   },
   "outputs": [],
   "source": [
    "import numpy as np\n",
    "import matplotlib.pyplot as plt\n",
    "from sklearn.datasets import load_iris\n",
    "import pandas as pd\n",
    "from sklearn.model_selection import train_test_split\n",
    "from sklearn.linear_model import LogisticRegression\n",
    "from sklearn.metrics import accuracy_score"
   ]
  },
  {
   "cell_type": "code",
   "execution_count": 2,
   "metadata": {
    "ExecuteTime": {
     "end_time": "2020-04-17T16:53:43.992027Z",
     "start_time": "2020-04-17T16:53:43.981690Z"
    }
   },
   "outputs": [],
   "source": [
    "import warnings\n",
    "warnings.filterwarnings(\"ignore\")"
   ]
  },
  {
   "cell_type": "markdown",
   "metadata": {},
   "source": [
    "# Dimensionality reduction Using PCA"
   ]
  },
  {
   "cell_type": "code",
   "execution_count": 3,
   "metadata": {
    "ExecuteTime": {
     "end_time": "2020-04-17T16:53:44.209748Z",
     "start_time": "2020-04-17T16:53:43.997649Z"
    }
   },
   "outputs": [],
   "source": [
    "class PCA:\n",
    "    \n",
    "    def __init__(self, n_component, solver=\"svd\"):\n",
    "        self.n_component = n_component\n",
    "        self.solver=solver\n",
    "        self.components = None\n",
    "        self.mean = None\n",
    "        \n",
    "        \n",
    "    def fit(self, X):\n",
    "        self.mean = X.mean(axis=0)\n",
    "        X = X - self.mean\n",
    "        \n",
    "        # expects row=feature, column=sample          \n",
    "        # cov = np.cov(X.T)\n",
    "        cov = (X - X.mean(axis=0)).T.dot(X - X.mean(axis=0)) / (X.shape[0] - 1)\n",
    "        \n",
    "        \n",
    "        if self.solver == \"eig\":\n",
    "            #  eigenvalue[i] -> eigenvector[:, i]\n",
    "            eigenvalues, eigenvectors = np.linalg.eig(cov)\n",
    "            \n",
    "            eigenvectors = eigenvectors.T\n",
    "            \n",
    "            idxs = np.argsort(eigenvalues)[::-1]\n",
    "            eigenvalues = eigenvalues[idxs]\n",
    "            eigenvectors = eigenvectors[idxs]\n",
    "            \n",
    "            self.components = eigenvectors[0:self.n_component]\n",
    "        \n",
    "        \n",
    "        else:          \n",
    "            # SVD\n",
    "            _, S, Vt = np.linalg.svd(X)\n",
    "            idxs = np.argsort(S)[::-1]\n",
    "            \n",
    "            S = S[idxs]\n",
    "            Vt = Vt[idxs]\n",
    "            \n",
    "            self.components = Vt[0:self.n_component]\n",
    "        \n",
    "    \n",
    "    def transform(self, X):\n",
    "        X = X - self.mean\n",
    "        return np.dot(X, self.components.T)\n",
    "    \n",
    "    def fit_transform(self, X):\n",
    "        self.fit(X)\n",
    "        return self.transform(X)"
   ]
  },
  {
   "cell_type": "markdown",
   "metadata": {},
   "source": [
    "# Feature Extraction on Diabetes dataset"
   ]
  },
  {
   "cell_type": "code",
   "execution_count": 4,
   "metadata": {
    "ExecuteTime": {
     "end_time": "2020-04-17T16:53:44.419215Z",
     "start_time": "2020-04-17T16:53:44.218687Z"
    }
   },
   "outputs": [
    {
     "data": {
      "text/html": [
       "<div>\n",
       "<style scoped>\n",
       "    .dataframe tbody tr th:only-of-type {\n",
       "        vertical-align: middle;\n",
       "    }\n",
       "\n",
       "    .dataframe tbody tr th {\n",
       "        vertical-align: top;\n",
       "    }\n",
       "\n",
       "    .dataframe thead th {\n",
       "        text-align: right;\n",
       "    }\n",
       "</style>\n",
       "<table border=\"1\" class=\"dataframe\">\n",
       "  <thead>\n",
       "    <tr style=\"text-align: right;\">\n",
       "      <th></th>\n",
       "      <th>Pregnancies</th>\n",
       "      <th>Glucose</th>\n",
       "      <th>BloodPressure</th>\n",
       "      <th>SkinThickness</th>\n",
       "      <th>Insulin</th>\n",
       "      <th>BMI</th>\n",
       "      <th>DiabetesPedigreeFunction</th>\n",
       "      <th>Age</th>\n",
       "      <th>Outcome</th>\n",
       "    </tr>\n",
       "  </thead>\n",
       "  <tbody>\n",
       "    <tr>\n",
       "      <th>0</th>\n",
       "      <td>6</td>\n",
       "      <td>148</td>\n",
       "      <td>72</td>\n",
       "      <td>35</td>\n",
       "      <td>0</td>\n",
       "      <td>33.6</td>\n",
       "      <td>0.627</td>\n",
       "      <td>50</td>\n",
       "      <td>1</td>\n",
       "    </tr>\n",
       "    <tr>\n",
       "      <th>1</th>\n",
       "      <td>1</td>\n",
       "      <td>85</td>\n",
       "      <td>66</td>\n",
       "      <td>29</td>\n",
       "      <td>0</td>\n",
       "      <td>26.6</td>\n",
       "      <td>0.351</td>\n",
       "      <td>31</td>\n",
       "      <td>0</td>\n",
       "    </tr>\n",
       "    <tr>\n",
       "      <th>2</th>\n",
       "      <td>8</td>\n",
       "      <td>183</td>\n",
       "      <td>64</td>\n",
       "      <td>0</td>\n",
       "      <td>0</td>\n",
       "      <td>23.3</td>\n",
       "      <td>0.672</td>\n",
       "      <td>32</td>\n",
       "      <td>1</td>\n",
       "    </tr>\n",
       "    <tr>\n",
       "      <th>3</th>\n",
       "      <td>1</td>\n",
       "      <td>89</td>\n",
       "      <td>66</td>\n",
       "      <td>23</td>\n",
       "      <td>94</td>\n",
       "      <td>28.1</td>\n",
       "      <td>0.167</td>\n",
       "      <td>21</td>\n",
       "      <td>0</td>\n",
       "    </tr>\n",
       "    <tr>\n",
       "      <th>4</th>\n",
       "      <td>0</td>\n",
       "      <td>137</td>\n",
       "      <td>40</td>\n",
       "      <td>35</td>\n",
       "      <td>168</td>\n",
       "      <td>43.1</td>\n",
       "      <td>2.288</td>\n",
       "      <td>33</td>\n",
       "      <td>1</td>\n",
       "    </tr>\n",
       "  </tbody>\n",
       "</table>\n",
       "</div>"
      ],
      "text/plain": [
       "   Pregnancies  Glucose  BloodPressure  SkinThickness  Insulin   BMI  \\\n",
       "0            6      148             72             35        0  33.6   \n",
       "1            1       85             66             29        0  26.6   \n",
       "2            8      183             64              0        0  23.3   \n",
       "3            1       89             66             23       94  28.1   \n",
       "4            0      137             40             35      168  43.1   \n",
       "\n",
       "   DiabetesPedigreeFunction  Age  Outcome  \n",
       "0                     0.627   50        1  \n",
       "1                     0.351   31        0  \n",
       "2                     0.672   32        1  \n",
       "3                     0.167   21        0  \n",
       "4                     2.288   33        1  "
      ]
     },
     "execution_count": 4,
     "metadata": {},
     "output_type": "execute_result"
    }
   ],
   "source": [
    "diabetes_data = pd.read_csv(r'../datasets/diabetes_data.csv')\n",
    "diabetes_data.head()"
   ]
  },
  {
   "cell_type": "code",
   "execution_count": 5,
   "metadata": {
    "ExecuteTime": {
     "end_time": "2020-04-17T16:53:44.499226Z",
     "start_time": "2020-04-17T16:53:44.428118Z"
    }
   },
   "outputs": [],
   "source": [
    "X = diabetes_data[diabetes_data.columns[:-1]].values\n",
    "y = diabetes_data[diabetes_data.columns[-1]].values"
   ]
  },
  {
   "cell_type": "markdown",
   "metadata": {
    "ExecuteTime": {
     "end_time": "2020-04-17T16:43:53.350520Z",
     "start_time": "2020-04-17T16:43:53.342122Z"
    }
   },
   "source": [
    "## ACcuracy Before applying PCA"
   ]
  },
  {
   "cell_type": "code",
   "execution_count": 6,
   "metadata": {
    "ExecuteTime": {
     "end_time": "2020-04-17T16:53:44.652486Z",
     "start_time": "2020-04-17T16:53:44.507580Z"
    }
   },
   "outputs": [],
   "source": [
    "X_train, X_test, y_train, y_test = train_test_split(X, y, test_size=0.2, stratify=y, random_state=42)"
   ]
  },
  {
   "cell_type": "code",
   "execution_count": 7,
   "metadata": {
    "ExecuteTime": {
     "end_time": "2020-04-17T16:53:44.948070Z",
     "start_time": "2020-04-17T16:53:44.666777Z"
    }
   },
   "outputs": [
    {
     "name": "stdout",
     "output_type": "stream",
     "text": [
      "Before feature extraction\n",
      "Number of features of X: 8\n",
      "Accuracy: 0.7142857142857143\n"
     ]
    }
   ],
   "source": [
    "# using Logistic Regression\n",
    "\n",
    "lr = LogisticRegression()\n",
    "lr.fit(X_train, y_train)\n",
    "y_pred = lr.predict(X_test)\n",
    "print(\"Before feature extraction\")\n",
    "print(f\"Number of features of X: {X_train.shape[1]}\")\n",
    "print(f\"Accuracy: {accuracy_score(y_test, y_pred)}\")"
   ]
  },
  {
   "cell_type": "code",
   "execution_count": 8,
   "metadata": {
    "ExecuteTime": {
     "end_time": "2020-04-17T16:53:45.049918Z",
     "start_time": "2020-04-17T16:53:44.960489Z"
    }
   },
   "outputs": [],
   "source": [
    "# Transforming Dataset\n",
    "\n",
    "pca = PCA(n_component=6)\n",
    "X_transformed = pca.fit_transform(X)\n",
    "X_train, X_test, y_train, y_test = train_test_split(X_transformed, y, test_size=0.2, stratify=y, random_state=42)"
   ]
  },
  {
   "cell_type": "code",
   "execution_count": 9,
   "metadata": {
    "ExecuteTime": {
     "end_time": "2020-04-17T16:53:45.162775Z",
     "start_time": "2020-04-17T16:53:45.049918Z"
    }
   },
   "outputs": [
    {
     "name": "stdout",
     "output_type": "stream",
     "text": [
      "After feature extraction\n",
      "Number of features of X: 6\n",
      "Accuracy: 0.7337662337662337\n"
     ]
    }
   ],
   "source": [
    "lr = LogisticRegression()\n",
    "lr.fit(X_train, y_train)\n",
    "y_pred = lr.predict(X_test)\n",
    "print(\"After feature extraction\")\n",
    "print(f\"Number of features of X: {X_train.shape[1]}\")\n",
    "print(f\"Accuracy: {accuracy_score(y_test, y_pred)}\")"
   ]
  },
  {
   "cell_type": "markdown",
   "metadata": {
    "ExecuteTime": {
     "end_time": "2020-04-17T16:53:17.733258Z",
     "start_time": "2020-04-17T16:53:17.726273Z"
    }
   },
   "source": [
    "# On Mnist Dataset\n",
    "\n",
    "Reducing number of features for visualization"
   ]
  },
  {
   "cell_type": "code",
   "execution_count": 10,
   "metadata": {
    "ExecuteTime": {
     "end_time": "2020-04-17T16:53:45.271370Z",
     "start_time": "2020-04-17T16:53:45.165615Z"
    }
   },
   "outputs": [],
   "source": [
    "data = load_iris()\n",
    "X = data.data\n",
    "y = data.target"
   ]
  },
  {
   "cell_type": "code",
   "execution_count": 11,
   "metadata": {
    "ExecuteTime": {
     "end_time": "2020-04-17T16:53:45.397396Z",
     "start_time": "2020-04-17T16:53:45.276300Z"
    }
   },
   "outputs": [],
   "source": [
    "pca = PCA(n_component=2)\n",
    "X_projected = pca.fit_transform(X)"
   ]
  },
  {
   "cell_type": "code",
   "execution_count": 12,
   "metadata": {
    "ExecuteTime": {
     "end_time": "2020-04-17T16:53:45.527547Z",
     "start_time": "2020-04-17T16:53:45.404998Z"
    }
   },
   "outputs": [
    {
     "name": "stdout",
     "output_type": "stream",
     "text": [
      "Shape of X: (150, 4)\n",
      "Shape of transformed X: (150, 2)\n"
     ]
    }
   ],
   "source": [
    "print(f\"Shape of X: {X.shape}\")\n",
    "print(f\"Shape of transformed X: {X_projected.shape}\")"
   ]
  },
  {
   "cell_type": "code",
   "execution_count": 13,
   "metadata": {
    "ExecuteTime": {
     "end_time": "2020-04-17T16:53:45.655688Z",
     "start_time": "2020-04-17T16:53:45.537553Z"
    }
   },
   "outputs": [],
   "source": [
    "x1 = X_projected[:, 0]\n",
    "x2 = X_projected[:, 1]"
   ]
  },
  {
   "cell_type": "code",
   "execution_count": 14,
   "metadata": {
    "ExecuteTime": {
     "end_time": "2020-04-17T16:53:46.104685Z",
     "start_time": "2020-04-17T16:53:45.665223Z"
    }
   },
   "outputs": [
    {
     "data": {
      "text/plain": [
       "(150, 3)"
      ]
     },
     "execution_count": 14,
     "metadata": {},
     "output_type": "execute_result"
    }
   ],
   "source": [
    "X_trans = np.c_[x1, x2, y]\n",
    "X_trans.shape"
   ]
  },
  {
   "cell_type": "code",
   "execution_count": 15,
   "metadata": {
    "ExecuteTime": {
     "end_time": "2020-04-17T16:53:47.087110Z",
     "start_time": "2020-04-17T16:53:46.115345Z"
    }
   },
   "outputs": [
    {
     "data": {
      "image/png": "[encoded data removed]",
      "text/plain": [
       "<Figure size 432x288 with 1 Axes>"
      ]
     },
     "metadata": {
      "needs_background": "light"
     },
     "output_type": "display_data"
    }
   ],
   "source": [
    "colors = [\"red\", \"blue\", \"green\"]\n",
    "for i in range(3):\n",
    "    plt.scatter(X_trans[X_trans[:, 2] == i][:, 0], X_trans[X_trans[:, 2] == i][:, 1], c=colors[i], \n",
    "                edgecolors=\"k\", alpha=0.7, label=data.target_names[i])\n",
    "\n",
    "plt.xlabel(\"Principal Component 1\")\n",
    "plt.ylabel(\"Principal Component 2\")\n",
    "plt.legend()\n",
    "plt.show()"
   ]
  }
 ],
 "metadata": {
  "kernelspec": {
   "display_name": "Python 3",
   "language": "python",
   "name": "python3"
  },
  "language_info": {
   "codemirror_mode": {
    "name": "ipython",
    "version": 3
   },
   "file_extension": ".py",
   "mimetype": "text/x-python",
   "name": "python",
   "nbconvert_exporter": "python",
   "pygments_lexer": "ipython3",
   "version": "3.7.6"
  },
  "toc": {
   "base_numbering": 1,
   "nav_menu": {},
   "number_sections": true,
   "sideBar": true,
   "skip_h1_title": false,
   "title_cell": "Table of Contents",
   "title_sidebar": "Contents",
   "toc_cell": true,
   "toc_position": {},
   "toc_section_display": true,
   "toc_window_display": false
  },
  "varInspector": {
   "cols": {
    "lenName": 16,
    "lenType": 16,
    "lenVar": 40
   },
   "kernels_config": {
    "python": {
     "delete_cmd_postfix": "",
     "delete_cmd_prefix": "del ",
     "library": "var_list.py",
     "varRefreshCmd": "print(var_dic_list())"
    },
    "r": {
     "delete_cmd_postfix": ") ",
     "delete_cmd_prefix": "rm(",
     "library": "var_list.r",
     "varRefreshCmd": "cat(var_dic_list()) "
    }
   },
   "types_to_exclude": [
    "module",
    "function",
    "builtin_function_or_method",
    "instance",
    "_Feature"
   ],
   "window_display": false
  }
 },
 "nbformat": 4,
 "nbformat_minor": 4
}
