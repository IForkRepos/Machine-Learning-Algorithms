{
 "cells": [
  {
   "cell_type": "markdown",
   "metadata": {
    "toc": true
   },
   "source": [
    "<h1>Table of Contents<span class=\"tocSkip\"></span></h1>\n",
    "<div class=\"toc\"><ul class=\"toc-item\"><li><span><a href=\"#From-Scratch\" data-toc-modified-id=\"From-Scratch-1\"><span class=\"toc-item-num\">1&nbsp;&nbsp;</span>From Scratch</a></span></li><li><span><a href=\"#using-sklearn\" data-toc-modified-id=\"using-sklearn-2\"><span class=\"toc-item-num\">2&nbsp;&nbsp;</span>using sklearn</a></span></li></ul></div>"
   ]
  },
  {
   "cell_type": "code",
   "execution_count": 1,
   "metadata": {
    "ExecuteTime": {
     "end_time": "2020-02-15T17:44:27.837260Z",
     "start_time": "2020-02-15T17:44:10.720831Z"
    }
   },
   "outputs": [],
   "source": [
    "import matplotlib.pyplot as plt\n",
    "import numpy as np\n",
    "from sklearn.cluster import KMeans\n",
    "%matplotlib inline"
   ]
  },
  {
   "cell_type": "markdown",
   "metadata": {},
   "source": [
    "### From Scratch"
   ]
  },
  {
   "cell_type": "markdown",
   "metadata": {},
   "source": [
    "**Euclidean distance**\n",
    "\n",
    "$d( \\mathbf{p},\\mathbf{q}) = d( \\mathbf{q},\\mathbf{p}) =\\sqrt{\\sum_{n=1}^{n} (q_{i} - p_{i}) ^ 2} $"
   ]
  },
  {
   "cell_type": "code",
   "execution_count": 2,
   "metadata": {
    "ExecuteTime": {
     "end_time": "2020-02-15T17:44:27.873016Z",
     "start_time": "2020-02-15T17:44:27.846859Z"
    },
    "hide_input": true
   },
   "outputs": [],
   "source": [
    "def euclideanDistance(centroid, datapoint):\n",
    "    '''\n",
    "    Description:{\n",
    "        Calculates the Euclidean distance between a centroid and \n",
    "        a data point\n",
    "    }\n",
    "    \n",
    "    inputs: {\n",
    "        centroid: centroid position\n",
    "        datapoint: a single datapoint whose distance from\n",
    "            centroid is to be calculated\n",
    "    }\n",
    "    return: {\n",
    "        [scalar] Distance between centroid and data\n",
    "    }\n",
    "    '''\n",
    "    \n",
    "    distance = np.sum(np.power(centroid - datapoint, 2))\n",
    "    return np.sqrt(distance)"
   ]
  },
  {
   "cell_type": "code",
   "execution_count": 3,
   "metadata": {
    "ExecuteTime": {
     "end_time": "2020-02-15T17:44:28.037545Z",
     "start_time": "2020-02-15T17:44:27.886107Z"
    }
   },
   "outputs": [
    {
     "name": "stdout",
     "output_type": "stream",
     "text": [
      "1.4142135623730951\n"
     ]
    }
   ],
   "source": [
    "# test euclideanDistance\n",
    "\n",
    "print(euclideanDistance(np.array([1.2, 2.4]), np.array([2.2, 3.4])))"
   ]
  },
  {
   "cell_type": "code",
   "execution_count": 4,
   "metadata": {
    "ExecuteTime": {
     "end_time": "2020-02-15T17:44:28.242863Z",
     "start_time": "2020-02-15T17:44:28.048471Z"
    }
   },
   "outputs": [],
   "source": [
    "def calculateDistances(data, centroid):\n",
    "    '''\n",
    "    Description: {\n",
    "        This function calculates distances between a \n",
    "        centroid and the dataset.\n",
    "        Uses the euclideanDistance function\n",
    "    }\n",
    "    \n",
    "    inputs: {\n",
    "        centroid: centroid position\n",
    "        data: dataset whose distance from a \n",
    "            centroid is to be calculated\n",
    "    }\n",
    "    \n",
    "    return: {\n",
    "        [list] distance of each datapoint from the centroid\n",
    "    }\n",
    "    '''\n",
    "    \n",
    "    dist = []\n",
    "    for i in range(len(data)):\n",
    "        point_dist_to_centroid = euclideanDistance(centroid, data[i])\n",
    "        dist.append(point_dist_to_centroid)\n",
    "    return dist"
   ]
  },
  {
   "cell_type": "code",
   "execution_count": 5,
   "metadata": {
    "ExecuteTime": {
     "end_time": "2020-02-15T17:44:28.447411Z",
     "start_time": "2020-02-15T17:44:28.252955Z"
    }
   },
   "outputs": [],
   "source": [
    "def distanceToCentroids(data, centroids):\n",
    "    '''\n",
    "    Description: {\n",
    "        This function calculates distance of between all datapoints\n",
    "        and the specified number of centroids.\n",
    "        Uses calculateDistances function\n",
    "    }\n",
    "    \n",
    "    inputs: {\n",
    "        data: dataset\n",
    "        centroids: list of list of initial or intermediary \n",
    "            centroids positions.\n",
    "    }\n",
    "    \n",
    "    return: {\n",
    "        [list of list] each row contains distance between the \n",
    "            datapoint and all centroids\n",
    "    }\n",
    "    '''\n",
    "\n",
    "    data_dist_from_centroid = [[] for i in range(len(data))]\n",
    "\n",
    "    for k in centroids:\n",
    "        dist = calculateDistances(data, k)\n",
    "        for x, y in enumerate(dist):\n",
    "            data_dist_from_centroid[x].append(y)\n",
    "\n",
    "    return data_dist_from_centroid"
   ]
  },
  {
   "cell_type": "code",
   "execution_count": 6,
   "metadata": {
    "ExecuteTime": {
     "end_time": "2020-02-15T17:44:28.625729Z",
     "start_time": "2020-02-15T17:44:28.456036Z"
    }
   },
   "outputs": [],
   "source": [
    "def getNewCentroid(data, distances, numOfCentroids):\n",
    "    '''\n",
    "    Description: {\n",
    "        This functions assigns datapoints to each of\n",
    "            the centroids and calculates new position for \n",
    "            all the centroids\n",
    "    }\n",
    "    \n",
    "    inputs: {\n",
    "        data: dataset\n",
    "        distances: calculated distances between datapoints and centroids\n",
    "        numOfCentroids: number of centroids initialized\n",
    "    }\n",
    "    \n",
    "    return: {\n",
    "        [list of list] new poistions of each centroid\n",
    "    }\n",
    "    '''\n",
    "    \n",
    "    assigned_centroids = [[] for _ in range(numOfCentroids)]\n",
    "\n",
    "    # assignnig data point to centroids\n",
    "    for i in range(len(data)):\n",
    "        min_index = np.argmin(distances[i])\n",
    "        assigned_centroids[min_index].append(data[i])\n",
    "\n",
    "    new_k = [np.array(i).mean(axis=0) for i in assigned_centroids]\n",
    "\n",
    "    return new_k, assigned_centroids"
   ]
  },
  {
   "cell_type": "code",
   "execution_count": 7,
   "metadata": {
    "ExecuteTime": {
     "end_time": "2020-02-15T17:44:28.820629Z",
     "start_time": "2020-02-15T17:44:28.640375Z"
    }
   },
   "outputs": [
    {
     "name": "stdout",
     "output_type": "stream",
     "text": [
      "(100, 2)\n"
     ]
    }
   ],
   "source": [
    "# generating dataset\n",
    "\n",
    "X = -2 * np.random.rand(100,2)\n",
    "X1 = 1 + 2 * np.random.rand(50,2)\n",
    "X[50:100, :] = X1\n",
    "print(X.shape)"
   ]
  },
  {
   "cell_type": "code",
   "execution_count": 8,
   "metadata": {
    "ExecuteTime": {
     "end_time": "2020-02-15T17:44:29.666532Z",
     "start_time": "2020-02-15T17:44:28.830706Z"
    }
   },
   "outputs": [
    {
     "data": {
      "image/png": "[encoded data removed]",
      "text/plain": [
       "<Figure size 432x288 with 1 Axes>"
      ]
     },
     "metadata": {
      "needs_background": "light"
     },
     "output_type": "display_data"
    }
   ],
   "source": [
    "plt.scatter(X[ : , 0], X[ :, 1], s = 50, c = \"b\")\n",
    "plt.title(\"2-dimensional data\")\n",
    "plt.xlabel(\"X1\")\n",
    "plt.ylabel(\"X2\")\n",
    "plt.show()"
   ]
  },
  {
   "cell_type": "code",
   "execution_count": 9,
   "metadata": {
    "ExecuteTime": {
     "end_time": "2020-02-15T17:44:29.679193Z",
     "start_time": "2020-02-15T17:44:29.670656Z"
    }
   },
   "outputs": [],
   "source": [
    "np.random.seed(42) # for reproducibilty"
   ]
  },
  {
   "cell_type": "code",
   "execution_count": 10,
   "metadata": {
    "ExecuteTime": {
     "end_time": "2020-02-15T17:45:31.298609Z",
     "start_time": "2020-02-15T17:44:29.682765Z"
    }
   },
   "outputs": [
    {
     "name": "stdout",
     "output_type": "stream",
     "text": [
      "Number of centroids: 2\n",
      "[[3.0469947179418364, 1.619858752370916], [1.8439335575738753, 3.515439597117166]]\n"
     ]
    }
   ],
   "source": [
    "num_centroids = int(input(\"Number of centroids: \"))\n",
    "centroids = []\n",
    "\n",
    "# Initial centroids\n",
    "num_dim = X.shape[1]\n",
    "\n",
    "# dynamic \n",
    "for i in range(num_centroids):\n",
    "    k = [np.random.choice(X[:, z] + 1 * 2* np.random.rand(X.shape[0])) for z in range(num_dim)]\n",
    "    centroids.append(k)\n",
    "\n",
    "\n",
    "print(centroids)\n",
    "\n",
    "\n",
    "\n",
    "# centroids = np.array([[-0.90218221, -1.00113884], [ 1.95986636, 1.94074284]])"
   ]
  },
  {
   "cell_type": "code",
   "execution_count": 11,
   "metadata": {
    "ExecuteTime": {
     "end_time": "2020-02-15T17:45:33.174888Z",
     "start_time": "2020-02-15T17:45:31.301536Z"
    },
    "scrolled": false
   },
   "outputs": [
    {
     "name": "stdout",
     "output_type": "stream",
     "text": [
      "[[3.0469947179418364, 1.619858752370916], [1.8439335575738753, 3.515439597117166]]\n",
      "[array([0.14253098, 0.05328315]), array([1.49429509, 2.36045453])]\n",
      "[array([-1.13955853, -0.84220772]), array([2.0193967 , 1.96392943])]\n",
      "[array([-1.13955853, -0.84220772]), array([2.0193967 , 1.96392943])]\n",
      "[array([-1.13955853, -0.84220772]), array([2.0193967 , 1.96392943])]\n"
     ]
    },
    {
     "data": {
      "image/png": "[encoded data removed]",
      "text/plain": [
       "<Figure size 720x1800 with 5 Axes>"
      ]
     },
     "metadata": {
      "needs_background": "light"
     },
     "output_type": "display_data"
    }
   ],
   "source": [
    "num_iterations = 5\n",
    "\n",
    "# centroids = np.array([[-2, 3],\n",
    "#                       [3, -2]])\n",
    "\n",
    "_, ax = plt.subplots(num_iterations, 1, figsize=(10, 25), sharey=True)\n",
    "\n",
    "for i in range(num_iterations):\n",
    "    \n",
    "    print(centroids)\n",
    "\n",
    "    for y, x in enumerate(centroids, 1):\n",
    "        ax[i].plot(x[0], x[1], marker=\"^\", markersize=12, label=f'k{y}')\n",
    "        \n",
    "    ax[i].scatter(X[:, 0], X[:, 1], s=50, c=\"b\",label='data')\n",
    "    ax[i].legend()\n",
    "    \n",
    "    distances = distanceToCentroids(X, centroids)\n",
    "    centroids, centroid_points = getNewCentroid(X, distances, num_centroids)"
   ]
  },
  {
   "cell_type": "code",
   "execution_count": 12,
   "metadata": {
    "ExecuteTime": {
     "end_time": "2020-02-15T17:45:33.198312Z",
     "start_time": "2020-02-15T17:45:33.179778Z"
    }
   },
   "outputs": [
    {
     "name": "stdout",
     "output_type": "stream",
     "text": [
      "Datapoint: (-0.95, 0.8) is assigned to centroid: 1\n"
     ]
    }
   ],
   "source": [
    "# assigning a cluster to a random point\n",
    "\n",
    "\n",
    "def predict(point, centroids):\n",
    "    distances = [euclideanDistance(i, point) for i in centroids]\n",
    "    assigned_centroid = np.argmin(distances)\n",
    "    print(f\"Datapoint: {round(point[0], 2), round(point[1], 2)} is assigned to centroid: {assigned_centroid + 1}\")\n",
    "\n",
    "array = np.arange(-2.0, 3.0, .35, dtype=float)\n",
    "point = [np.random.choice(array) for i in range(num_dim)]\n",
    "predict(point, centroids)"
   ]
  },
  {
   "cell_type": "markdown",
   "metadata": {},
   "source": [
    "### using sklearn"
   ]
  },
  {
   "cell_type": "code",
   "execution_count": 13,
   "metadata": {
    "ExecuteTime": {
     "end_time": "2020-02-15T17:45:33.796893Z",
     "start_time": "2020-02-15T17:45:33.203028Z"
    }
   },
   "outputs": [
    {
     "data": {
      "text/plain": [
       "<matplotlib.collections.PathCollection at 0x2318d1cb1c8>"
      ]
     },
     "execution_count": 13,
     "metadata": {},
     "output_type": "execute_result"
    },
    {
     "data": {
      "image/png": "[encoded data removed]",
      "text/plain": [
       "<Figure size 432x288 with 1 Axes>"
      ]
     },
     "metadata": {
      "needs_background": "light"
     },
     "output_type": "display_data"
    }
   ],
   "source": [
    "X = -2 * np.random.rand(100,2)\n",
    "X1 = 1 + 2 * np.random.rand(50,2)\n",
    "X[50:100, :] = X1\n",
    "plt.scatter(X[ : , 0], X[ :, 1], s = 50, c = 'b')"
   ]
  },
  {
   "cell_type": "code",
   "execution_count": 14,
   "metadata": {
    "ExecuteTime": {
     "end_time": "2020-02-15T17:45:33.865716Z",
     "start_time": "2020-02-15T17:45:33.802302Z"
    }
   },
   "outputs": [
    {
     "name": "stdout",
     "output_type": "stream",
     "text": [
      "[[ 1.78290355  1.95712998]\n",
      " [-0.88965514 -1.17533592]]\n",
      "2\n"
     ]
    }
   ],
   "source": [
    "from sklearn.cluster import KMeans\n",
    "\n",
    "\n",
    "Kmean = KMeans(n_clusters=2)\n",
    "Kmean.fit(X)\n",
    "\n",
    "centroids = Kmean.cluster_centers_\n",
    "print(centroids)\n",
    "print(Kmean.n_iter_)"
   ]
  },
  {
   "cell_type": "code",
   "execution_count": 15,
   "metadata": {
    "ExecuteTime": {
     "end_time": "2020-02-15T17:45:34.588357Z",
     "start_time": "2020-02-15T17:45:33.870578Z"
    }
   },
   "outputs": [
    {
     "data": {
      "text/plain": [
       "<matplotlib.collections.PathCollection at 0x2318eb48fc8>"
      ]
     },
     "execution_count": 15,
     "metadata": {},
     "output_type": "execute_result"
    },
    {
     "data": {
      "image/png": "[encoded data removed]",
      "text/plain": [
       "<Figure size 432x288 with 1 Axes>"
      ]
     },
     "metadata": {
      "needs_background": "light"
     },
     "output_type": "display_data"
    }
   ],
   "source": [
    "plt.scatter(X[ : , 0], X[ : , 1], s =50, c='b')\n",
    "plt.scatter(centroids[0][0], centroids[0][1], s=200, c='g', marker='s')\n",
    "plt.scatter(centroids[1][0], centroids[1][1], s=200, c='r', marker='s')"
   ]
  }
 ],
 "metadata": {
  "kernelspec": {
   "display_name": "Python 3",
   "language": "python",
   "name": "python3"
  },
  "language_info": {
   "codemirror_mode": {
    "name": "ipython",
    "version": 3
   },
   "file_extension": ".py",
   "mimetype": "text/x-python",
   "name": "python",
   "nbconvert_exporter": "python",
   "pygments_lexer": "ipython3",
   "version": "3.7.5"
  },
  "toc": {
   "base_numbering": 1,
   "nav_menu": {},
   "number_sections": true,
   "sideBar": true,
   "skip_h1_title": false,
   "title_cell": "Table of Contents",
   "title_sidebar": "Contents",
   "toc_cell": true,
   "toc_position": {},
   "toc_section_display": true,
   "toc_window_display": false
  },
  "varInspector": {
   "cols": {
    "lenName": 16,
    "lenType": 16,
    "lenVar": 40
   },
   "kernels_config": {
    "python": {
     "delete_cmd_postfix": "",
     "delete_cmd_prefix": "del ",
     "library": "var_list.py",
     "varRefreshCmd": "print(var_dic_list())"
    },
    "r": {
     "delete_cmd_postfix": ") ",
     "delete_cmd_prefix": "rm(",
     "library": "var_list.r",
     "varRefreshCmd": "cat(var_dic_list()) "
    }
   },
   "types_to_exclude": [
    "module",
    "function",
    "builtin_function_or_method",
    "instance",
    "_Feature"
   ],
   "window_display": false
  }
 },
 "nbformat": 4,
 "nbformat_minor": 2
}
