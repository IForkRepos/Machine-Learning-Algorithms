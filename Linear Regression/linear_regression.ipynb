{
 "cells": [
  {
   "cell_type": "code",
   "execution_count": 1,
   "metadata": {
    "ExecuteTime": {
     "end_time": "2020-02-19T19:08:08.349219Z",
     "start_time": "2020-02-19T19:08:05.430177Z"
    }
   },
   "outputs": [],
   "source": [
    "import numpy as np\n",
    "from sklearn.model_selection import train_test_split\n",
    "from sklearn import datasets\n",
    "import matplotlib.pyplot as plt"
   ]
  },
  {
   "cell_type": "code",
   "execution_count": 2,
   "metadata": {
    "ExecuteTime": {
     "end_time": "2020-02-19T19:08:08.416658Z",
     "start_time": "2020-02-19T19:08:08.357708Z"
    }
   },
   "outputs": [],
   "source": [
    "class LinearRegression(object):\n",
    "    \n",
    "    def __init__(self, learning_rate=0.001, n_iters=1000, normal=False):\n",
    "        self.lr = learning_rate\n",
    "        self.n_iters = n_iters\n",
    "        self.weights = None\n",
    "        self.bias = None\n",
    "        self.normal = normal\n",
    "        self.costs = []\n",
    "        \n",
    "    def fit(self, X, y):\n",
    "        n_samples, n_features = X.shape\n",
    "        \n",
    "        # init parameters\n",
    "        self.weights = np.zeros(n_features)\n",
    "        self.bias = 0\n",
    "        \n",
    "        if self.normal:\n",
    "            X_b = np.c_[np.ones((n_samples, 1)), X]\n",
    "            self.weights = np.linalg.inv(X_b.T.dot(X_b)).dot(X_b.T).dot(y)\n",
    "        \n",
    "        else:\n",
    "            # gradient descent\n",
    "\n",
    "            for _ in range(self.n_iters):\n",
    "                y_predicted = np.dot(X, self.weights) + self.bias\n",
    "\n",
    "                cost = np.mean(np.square(y - y_predicted))\n",
    "                self.costs.append(cost)\n",
    "\n",
    "                # compute gradients\n",
    "                dw = (1 / n_samples) * np.dot(X.T, (y_predicted - y))\n",
    "                db = (1 / n_samples) * np.sum(y_predicted - y)\n",
    "\n",
    "\n",
    "                # update parameters\n",
    "                self.weights -= self.lr * dw\n",
    "                self.bias -= self.lr * db\n",
    "            \n",
    "    \n",
    "    def predict(self, X):\n",
    "        if self.normal:\n",
    "            X_b = np.c_[np.ones((X.shape[0], 1)), X]\n",
    "            y_approximated = X_b.dot(self.weights)\n",
    "        else:\n",
    "            y_approximated = np.dot(X, self.weights) + self.bias\n",
    "            \n",
    "        return y_approximated"
   ]
  },
  {
   "cell_type": "code",
   "execution_count": 3,
   "metadata": {
    "ExecuteTime": {
     "end_time": "2020-02-19T19:08:08.587606Z",
     "start_time": "2020-02-19T19:08:08.425487Z"
    }
   },
   "outputs": [],
   "source": [
    "# metric\n",
    "\n",
    "def mean_squared_error(y_true, y_pred):\n",
    "    return np.mean((y_true - y_pred)**2)"
   ]
  },
  {
   "cell_type": "code",
   "execution_count": 4,
   "metadata": {
    "ExecuteTime": {
     "end_time": "2020-02-19T19:08:08.947973Z",
     "start_time": "2020-02-19T19:08:08.598575Z"
    }
   },
   "outputs": [
    {
     "ename": "NameError",
     "evalue": "name 'StandardScaler' is not defined",
     "output_type": "error",
     "traceback": [
      "\u001b[1;31m---------------------------------------------------------------------------\u001b[0m",
      "\u001b[1;31mNameError\u001b[0m                                 Traceback (most recent call last)",
      "\u001b[1;32m<ipython-input-4-7a20f0f7d21c>\u001b[0m in \u001b[0;36m<module>\u001b[1;34m\u001b[0m\n\u001b[0;32m      3\u001b[0m \u001b[0mX\u001b[0m\u001b[1;33m,\u001b[0m \u001b[0my\u001b[0m \u001b[1;33m=\u001b[0m \u001b[0mdatasets\u001b[0m\u001b[1;33m.\u001b[0m\u001b[0mmake_regression\u001b[0m\u001b[1;33m(\u001b[0m\u001b[0mn_samples\u001b[0m\u001b[1;33m=\u001b[0m\u001b[1;36m400\u001b[0m\u001b[1;33m,\u001b[0m \u001b[0mn_features\u001b[0m\u001b[1;33m=\u001b[0m\u001b[1;36m1\u001b[0m\u001b[1;33m,\u001b[0m \u001b[0mnoise\u001b[0m\u001b[1;33m=\u001b[0m\u001b[1;36m30\u001b[0m\u001b[1;33m,\u001b[0m \u001b[0mrandom_state\u001b[0m\u001b[1;33m=\u001b[0m\u001b[1;36m42\u001b[0m\u001b[1;33m)\u001b[0m\u001b[1;33m\u001b[0m\u001b[1;33m\u001b[0m\u001b[0m\n\u001b[0;32m      4\u001b[0m \u001b[1;33m\u001b[0m\u001b[0m\n\u001b[1;32m----> 5\u001b[1;33m \u001b[0mtransformer\u001b[0m \u001b[1;33m=\u001b[0m \u001b[0mStandardScaler\u001b[0m\u001b[1;33m(\u001b[0m\u001b[1;33m)\u001b[0m\u001b[1;33m\u001b[0m\u001b[1;33m\u001b[0m\u001b[0m\n\u001b[0m\u001b[0;32m      6\u001b[0m \u001b[0mX\u001b[0m \u001b[1;33m=\u001b[0m \u001b[0mtransformer\u001b[0m\u001b[1;33m.\u001b[0m\u001b[0mfit_transform\u001b[0m\u001b[1;33m(\u001b[0m\u001b[0mX\u001b[0m\u001b[1;33m)\u001b[0m\u001b[1;33m\u001b[0m\u001b[1;33m\u001b[0m\u001b[0m\n\u001b[0;32m      7\u001b[0m \u001b[1;33m\u001b[0m\u001b[0m\n",
      "\u001b[1;31mNameError\u001b[0m: name 'StandardScaler' is not defined"
     ]
    }
   ],
   "source": [
    "# test\n",
    "\n",
    "X, y = datasets.make_regression(n_samples=400, n_features=1, noise=30, random_state=42)\n",
    "\n",
    "transformer = StandardScaler()\n",
    "X = transformer.fit_transform(X)\n",
    "\n",
    "X_train, X_test, y_train, y_test = train_test_split(X, y, test_size=0.2, random_state=42)"
   ]
  },
  {
   "cell_type": "code",
   "execution_count": null,
   "metadata": {
    "ExecuteTime": {
     "end_time": "2020-02-19T19:08:09.013418Z",
     "start_time": "2020-02-19T19:08:05.418Z"
    }
   },
   "outputs": [],
   "source": [
    "reg = LinearRegression(learning_rate=0.01, n_iters=1000, normal=True)\n",
    "reg.fit(X_train, y_train)\n",
    "predictions = reg.predict(X_test)\n",
    "    \n",
    "mse = mean_squared_error(y_test, predictions)\n",
    "print(\"MSE:\", mse)\n"
   ]
  },
  {
   "cell_type": "code",
   "execution_count": null,
   "metadata": {
    "ExecuteTime": {
     "end_time": "2020-02-19T19:08:09.016852Z",
     "start_time": "2020-02-19T19:08:05.422Z"
    }
   },
   "outputs": [],
   "source": [
    "y_pred_line = reg.predict(X)\n",
    "mse = mean_squared_error(y, y_pred_line)\n",
    "cmap = plt.get_cmap('viridis')\n",
    "\n",
    "fig = plt.figure(figsize=(8,6))\n",
    "\n",
    "plt.scatter(X_train, y_train, color=cmap(0.9), s=10, label=\"Train\")\n",
    "plt.scatter(X_test, y_test, color=cmap(0.5), s=10, label=\"Test\")\n",
    "plt.plot(X, y_pred_line, color='black', linewidth=2, label=\"Prediction\")\n",
    "plt.xlabel(\"X\", fontsize=15)\n",
    "plt.ylabel(\"Y\", fontsize=15, rotation=0)\n",
    "plt.title(f\"$Error: {mse}$\", fontsize=18)\n",
    "plt.legend()\n",
    "plt.show()"
   ]
  },
  {
   "cell_type": "code",
   "execution_count": null,
   "metadata": {
    "ExecuteTime": {
     "end_time": "2020-02-19T19:08:09.019020Z",
     "start_time": "2020-02-19T19:08:05.426Z"
    }
   },
   "outputs": [],
   "source": [
    "# ax = plt.axes(projection='3d')\n",
    "\n",
    "# # Data for a three-dimensional line\n",
    "# # zline = np.linspace(0, 15, 1000)\n",
    "# # xline = np.sin(zline)\n",
    "# # yline = np.cos(zline)\n",
    "# # ax.plot3D(xline, yline, zline, 'gray')\n",
    "\n",
    "# # # Data for three-dimensional scattered points\n",
    "# # zdata = 15 * np.random.random(100)\n",
    "# # xdata = np.sin(zdata) + 0.1 * np.random.randn(100)\n",
    "# # ydata = np.cos(zdata) + 0.1 * np.random.randn(100)\n",
    "# ax.scatter3D(X[:, 0], X[:, 1], y, cmap='Greens');\n",
    "\n",
    "# ax.set_xlabel('X1')\n",
    "# ax.set_ylabel('Y2')\n",
    "# ax.set_zlabel('Z')\n"
   ]
  }
 ],
 "metadata": {
  "kernelspec": {
   "display_name": "Python 3",
   "language": "python",
   "name": "python3"
  },
  "language_info": {
   "codemirror_mode": {
    "name": "ipython",
    "version": 3
   },
   "file_extension": ".py",
   "mimetype": "text/x-python",
   "name": "python",
   "nbconvert_exporter": "python",
   "pygments_lexer": "ipython3",
   "version": "3.7.6"
  },
  "toc": {
   "base_numbering": 1,
   "nav_menu": {},
   "number_sections": true,
   "sideBar": true,
   "skip_h1_title": false,
   "title_cell": "Table of Contents",
   "title_sidebar": "Contents",
   "toc_cell": false,
   "toc_position": {},
   "toc_section_display": true,
   "toc_window_display": false
  },
  "varInspector": {
   "cols": {
    "lenName": 16,
    "lenType": 16,
    "lenVar": 40
   },
   "kernels_config": {
    "python": {
     "delete_cmd_postfix": "",
     "delete_cmd_prefix": "del ",
     "library": "var_list.py",
     "varRefreshCmd": "print(var_dic_list())"
    },
    "r": {
     "delete_cmd_postfix": ") ",
     "delete_cmd_prefix": "rm(",
     "library": "var_list.r",
     "varRefreshCmd": "cat(var_dic_list()) "
    }
   },
   "types_to_exclude": [
    "module",
    "function",
    "builtin_function_or_method",
    "instance",
    "_Feature"
   ],
   "window_display": false
  }
 },
 "nbformat": 4,
 "nbformat_minor": 4
}
