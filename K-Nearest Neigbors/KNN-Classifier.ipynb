{
 "cells": [
  {
   "cell_type": "code",
   "execution_count": 1,
   "metadata": {
    "ExecuteTime": {
     "end_time": "2020-02-16T23:06:30.008859Z",
     "start_time": "2020-02-16T23:06:30.002839Z"
    }
   },
   "outputs": [],
   "source": [
    "import csv\n",
    "import random\n",
    "import operator\n",
    "import math\n",
    "\n",
    "random.seed(47)"
   ]
  },
  {
   "cell_type": "code",
   "execution_count": 2,
   "metadata": {
    "ExecuteTime": {
     "end_time": "2020-02-16T23:06:30.143114Z",
     "start_time": "2020-02-16T23:06:30.010816Z"
    }
   },
   "outputs": [],
   "source": [
    "def viewDataset(file):\n",
    "    with open(file) as csvfile:\n",
    "        lines = csv.reader(csvfile)\n",
    "        for row in lines:\n",
    "            print(', '.join(row))\n"
   ]
  },
  {
   "cell_type": "code",
   "execution_count": 3,
   "metadata": {
    "ExecuteTime": {
     "end_time": "2020-02-16T23:06:30.290169Z",
     "start_time": "2020-02-16T23:06:30.149057Z"
    }
   },
   "outputs": [],
   "source": [
    "dataset = r'../datasets/iris.data'\n",
    "# viewDataset(dataset)"
   ]
  },
  {
   "cell_type": "code",
   "execution_count": 4,
   "metadata": {
    "ExecuteTime": {
     "end_time": "2020-02-16T23:06:30.439251Z",
     "start_time": "2020-02-16T23:06:30.293164Z"
    }
   },
   "outputs": [],
   "source": [
    "def handleDataset(filename, split):\n",
    "    trainingSet = []\n",
    "    testSet = []\n",
    "    with open(filename, 'r') as csvfile:\n",
    "        lines = csv.reader(csvfile)\n",
    "        dataset = list(lines)\n",
    "        for x in range(len(dataset) - 1):\n",
    "            for y in range(4):\n",
    "                dataset[x][y] = float(dataset[x][y])\n",
    "            if random.random() < split:\n",
    "                trainingSet.append(dataset[x])\n",
    "            else:\n",
    "                testSet.append(dataset[x])\n",
    "    return trainingSet, testSet"
   ]
  },
  {
   "cell_type": "code",
   "execution_count": 5,
   "metadata": {
    "ExecuteTime": {
     "end_time": "2020-02-16T23:06:30.580287Z",
     "start_time": "2020-02-16T23:06:30.440284Z"
    }
   },
   "outputs": [
    {
     "name": "stdout",
     "output_type": "stream",
     "text": [
      "Train: 101\n",
      "Test: 49\n"
     ]
    }
   ],
   "source": [
    "# test handleDataset\n",
    "\n",
    "trainingSet, testSet = handleDataset(dataset, 0.66)\n",
    "print ('Train: ' + repr(len(trainingSet)))\n",
    "print ('Test: ' + repr(len(testSet)))"
   ]
  },
  {
   "cell_type": "code",
   "execution_count": 6,
   "metadata": {
    "ExecuteTime": {
     "end_time": "2020-02-16T23:06:30.721943Z",
     "start_time": "2020-02-16T23:06:30.582311Z"
    }
   },
   "outputs": [],
   "source": [
    "def euclideanDistance(instance1, instance2, length):\n",
    "    distance = 0\n",
    "    for x in range(length):\n",
    "        distance += pow((instance1[x] - instance2[x]), 2)\n",
    "    return math.sqrt(distance)"
   ]
  },
  {
   "cell_type": "code",
   "execution_count": 7,
   "metadata": {
    "ExecuteTime": {
     "end_time": "2020-02-16T23:06:30.858538Z",
     "start_time": "2020-02-16T23:06:30.731964Z"
    }
   },
   "outputs": [
    {
     "name": "stdout",
     "output_type": "stream",
     "text": [
      "Distance: 3.4641016151377544\n"
     ]
    }
   ],
   "source": [
    "# Test Euclidean Distance\n",
    "data1 = [2, 2, 2, 'a']\n",
    "data2 = [4, 4, 4, 'b']\n",
    "distance = euclideanDistance(data1, data2, 3)\n",
    "print('Distance: ' + repr(distance))"
   ]
  },
  {
   "cell_type": "code",
   "execution_count": 8,
   "metadata": {
    "ExecuteTime": {
     "end_time": "2020-02-16T23:06:30.995044Z",
     "start_time": "2020-02-16T23:06:30.861489Z"
    }
   },
   "outputs": [],
   "source": [
    "def getKNeighbors(trainingSet, testInstance, k):\n",
    "    distances = []\n",
    "    length = len(testInstance) - 1\n",
    "    for x in range(len(trainingSet)):\n",
    "        dist = euclideanDistance(testInstance, trainingSet[x], length)\n",
    "        distances.append((trainingSet[x], dist))\n",
    "    distances.sort(key=operator.itemgetter(1))\n",
    "    neighbors = []\n",
    "    for x in range(k):\n",
    "        neighbors.append(distances[x][0])\n",
    "    return neighbors"
   ]
  },
  {
   "cell_type": "code",
   "execution_count": 9,
   "metadata": {
    "ExecuteTime": {
     "end_time": "2020-02-16T23:06:31.162445Z",
     "start_time": "2020-02-16T23:06:30.996140Z"
    }
   },
   "outputs": [
    {
     "name": "stdout",
     "output_type": "stream",
     "text": [
      "[[4, 4, 4, 'b']]\n"
     ]
    }
   ],
   "source": [
    "# test getKNeighbors\n",
    "\n",
    "trainSet = [[2, 2, 2, 'a'], [4, 4, 4, 'b']]\n",
    "testInstance = [5, 5, 5]\n",
    "k = 1\n",
    "neighbors = getKNeighbors(trainSet, testInstance, 1)\n",
    "print(neighbors)"
   ]
  },
  {
   "cell_type": "code",
   "execution_count": 10,
   "metadata": {
    "ExecuteTime": {
     "end_time": "2020-02-16T23:06:31.315818Z",
     "start_time": "2020-02-16T23:06:31.163407Z"
    }
   },
   "outputs": [],
   "source": [
    "def getResponse(neighbors):\n",
    "    classVotes = {}\n",
    "    for x in range(len(neighbors)):\n",
    "        response = neighbors[x][-1]\n",
    "        if response in classVotes:\n",
    "            classVotes[response] += 1\n",
    "        else:\n",
    "            classVotes[response] = 1\n",
    "#     print(classVotes)\n",
    "    sortedVotes = sorted(classVotes.items(),\n",
    "                         key=operator.itemgetter(1), reverse=True)\n",
    "#     print(sortedVotes)\n",
    "    return sortedVotes[0][0]"
   ]
  },
  {
   "cell_type": "code",
   "execution_count": 11,
   "metadata": {
    "ExecuteTime": {
     "end_time": "2020-02-16T23:06:31.484233Z",
     "start_time": "2020-02-16T23:06:31.321761Z"
    }
   },
   "outputs": [
    {
     "name": "stdout",
     "output_type": "stream",
     "text": [
      "a\n"
     ]
    }
   ],
   "source": [
    "# test getResponse\n",
    "\n",
    "neighbors = [[1, 1, 1, 'a'], [2, 2, 2, 'a'], [3, 3, 3, 'b']]\n",
    "print(getResponse(neighbors))"
   ]
  },
  {
   "cell_type": "code",
   "execution_count": 12,
   "metadata": {
    "ExecuteTime": {
     "end_time": "2020-02-16T23:06:31.632980Z",
     "start_time": "2020-02-16T23:06:31.490217Z"
    }
   },
   "outputs": [],
   "source": [
    "def getAccuracy(testSet, predictions):\n",
    "    correct = 0\n",
    "    testSet_length = len(testSet)\n",
    "    for x in range(testSet_length):\n",
    "        if testSet[x][-1] == predictions[x]:\n",
    "            correct += 1\n",
    "    return (correct/testSet_length) * 100.0"
   ]
  },
  {
   "cell_type": "code",
   "execution_count": 13,
   "metadata": {
    "ExecuteTime": {
     "end_time": "2020-02-16T23:06:31.768505Z",
     "start_time": "2020-02-16T23:06:31.638927Z"
    }
   },
   "outputs": [
    {
     "name": "stdout",
     "output_type": "stream",
     "text": [
      "66.66666666666666\n"
     ]
    }
   ],
   "source": [
    "# test getAccuracy\n",
    "\n",
    "testSet = [[1, 1, 1, 'a'], [2, 2, 2, 'a'], [3, 3, 3, 'b']]\n",
    "predictions = ['a', 'a', 'a']\n",
    "accuracy = getAccuracy(testSet, predictions)\n",
    "print(accuracy)"
   ]
  },
  {
   "cell_type": "code",
   "execution_count": 14,
   "metadata": {
    "ExecuteTime": {
     "end_time": "2020-02-16T23:06:32.449281Z",
     "start_time": "2020-02-16T23:06:31.769490Z"
    }
   },
   "outputs": [],
   "source": [
    "from sklearn.metrics import accuracy_score"
   ]
  },
  {
   "cell_type": "code",
   "execution_count": 15,
   "metadata": {
    "ExecuteTime": {
     "end_time": "2020-02-16T23:06:32.465145Z",
     "start_time": "2020-02-16T23:06:32.455179Z"
    }
   },
   "outputs": [],
   "source": [
    "def main():\n",
    "    # prepare data\n",
    "    split = 0.8\n",
    "    trainingSet, testSet = handleDataset(dataset, split)\n",
    "    print('Train: ' + repr(len(trainingSet)))\n",
    "    print('Test: ' + repr(len(testSet)))\n",
    "    # generate predictions\n",
    "    predictions = []\n",
    "    k = 3\n",
    "    for x in range(len(testSet)):\n",
    "        neighbors = getKNeighbors(trainingSet, testSet[x], k)\n",
    "        result = getResponse(neighbors)    \n",
    "        predictions.append(result)\n",
    "        print(f'> predicted = {result}, actual = {testSet[x][-1]}')\n",
    "                                            \n",
    "    accuracy = getAccuracy(testSet, predictions)\n",
    "    print(f'k: {k}, Accuracy: {round(accuracy,3)}%')"
   ]
  },
  {
   "cell_type": "code",
   "execution_count": 16,
   "metadata": {
    "ExecuteTime": {
     "end_time": "2020-02-16T23:06:32.623369Z",
     "start_time": "2020-02-16T23:06:32.467140Z"
    }
   },
   "outputs": [
    {
     "name": "stdout",
     "output_type": "stream",
     "text": [
      "Train: 121\n",
      "Test: 29\n",
      "> predicted = Iris-setosa, actual = Iris-setosa\n",
      "> predicted = Iris-setosa, actual = Iris-setosa\n",
      "> predicted = Iris-setosa, actual = Iris-setosa\n",
      "> predicted = Iris-setosa, actual = Iris-setosa\n",
      "> predicted = Iris-setosa, actual = Iris-setosa\n",
      "> predicted = Iris-setosa, actual = Iris-setosa\n",
      "> predicted = Iris-setosa, actual = Iris-setosa\n",
      "> predicted = Iris-setosa, actual = Iris-setosa\n",
      "> predicted = Iris-setosa, actual = Iris-setosa\n",
      "> predicted = Iris-setosa, actual = Iris-setosa\n",
      "> predicted = Iris-versicolor, actual = Iris-versicolor\n",
      "> predicted = Iris-versicolor, actual = Iris-versicolor\n",
      "> predicted = Iris-versicolor, actual = Iris-versicolor\n",
      "> predicted = Iris-versicolor, actual = Iris-versicolor\n",
      "> predicted = Iris-versicolor, actual = Iris-versicolor\n",
      "> predicted = Iris-versicolor, actual = Iris-versicolor\n",
      "> predicted = Iris-virginica, actual = Iris-versicolor\n",
      "> predicted = Iris-versicolor, actual = Iris-versicolor\n",
      "> predicted = Iris-virginica, actual = Iris-versicolor\n",
      "> predicted = Iris-versicolor, actual = Iris-versicolor\n",
      "> predicted = Iris-versicolor, actual = Iris-virginica\n",
      "> predicted = Iris-virginica, actual = Iris-virginica\n",
      "> predicted = Iris-virginica, actual = Iris-virginica\n",
      "> predicted = Iris-virginica, actual = Iris-virginica\n",
      "> predicted = Iris-virginica, actual = Iris-virginica\n",
      "> predicted = Iris-virginica, actual = Iris-virginica\n",
      "> predicted = Iris-virginica, actual = Iris-virginica\n",
      "> predicted = Iris-virginica, actual = Iris-virginica\n",
      "> predicted = Iris-virginica, actual = Iris-virginica\n",
      "k: 3, Accuracy: 89.655%\n"
     ]
    }
   ],
   "source": [
    "main()"
   ]
  }
 ],
 "metadata": {
  "kernelspec": {
   "display_name": "Python 3",
   "language": "python",
   "name": "python3"
  },
  "language_info": {
   "codemirror_mode": {
    "name": "ipython",
    "version": 3
   },
   "file_extension": ".py",
   "mimetype": "text/x-python",
   "name": "python",
   "nbconvert_exporter": "python",
   "pygments_lexer": "ipython3",
   "version": "3.7.6"
  },
  "toc": {
   "base_numbering": 1,
   "nav_menu": {},
   "number_sections": true,
   "sideBar": true,
   "skip_h1_title": false,
   "title_cell": "Table of Contents",
   "title_sidebar": "Contents",
   "toc_cell": false,
   "toc_position": {},
   "toc_section_display": true,
   "toc_window_display": false
  },
  "varInspector": {
   "cols": {
    "lenName": 16,
    "lenType": 16,
    "lenVar": 40
   },
   "kernels_config": {
    "python": {
     "delete_cmd_postfix": "",
     "delete_cmd_prefix": "del ",
     "library": "var_list.py",
     "varRefreshCmd": "print(var_dic_list())"
    },
    "r": {
     "delete_cmd_postfix": ") ",
     "delete_cmd_prefix": "rm(",
     "library": "var_list.r",
     "varRefreshCmd": "cat(var_dic_list()) "
    }
   },
   "types_to_exclude": [
    "module",
    "function",
    "builtin_function_or_method",
    "instance",
    "_Feature"
   ],
   "window_display": false
  }
 },
 "nbformat": 4,
 "nbformat_minor": 2
}
